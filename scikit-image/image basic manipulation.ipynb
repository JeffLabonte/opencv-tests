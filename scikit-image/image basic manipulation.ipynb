{
 "cells": [
  {
   "cell_type": "code",
   "execution_count": 1,
   "id": "850a64e5",
   "metadata": {},
   "outputs": [],
   "source": [
    "from skimage import io"
   ]
  },
  {
   "cell_type": "code",
   "execution_count": 2,
   "id": "eea8b1df",
   "metadata": {},
   "outputs": [
    {
     "name": "stdout",
     "output_type": "stream",
     "text": [
      "Help on package skimage.io in skimage:\n",
      "\n",
      "NAME\n",
      "    skimage.io - Utilities to read and write images in various formats.\n",
      "\n",
      "DESCRIPTION\n",
      "    The following plug-ins are available:\n",
      "    \n",
      "    ========== ==============================================================\n",
      "    Plugin     Description\n",
      "    ---------- --------------------------------------------------------------\n",
      "    gtk        Fast image display using the GTK library\n",
      "    tifffile   Load and save TIFF and TIFF-based images using tifffile.py\n",
      "    qt         Fast image display using the Qt library. Deprecated since\n",
      "               0.18. Will be removed in 0.20.\n",
      "    imageio    Image reading via the ImageIO Library\n",
      "    gdal       Image reading via the GDAL Library (www.gdal.org)\n",
      "    pil        Image reading via the Python Imaging Library\n",
      "    matplotlib Display or save images using Matplotlib\n",
      "    fits       FITS image reading via PyFITS\n",
      "    simpleitk  Image reading and writing via SimpleITK\n",
      "    imread     Image reading and writing via imread\n",
      "    ========== ==============================================================\n",
      "\n",
      "PACKAGE CONTENTS\n",
      "    _image_stack\n",
      "    _io\n",
      "    _plugins (package)\n",
      "    collection\n",
      "    manage_plugins\n",
      "    setup\n",
      "    sift\n",
      "    tests (package)\n",
      "    util\n",
      "\n",
      "DATA\n",
      "    WRAP_LEN = 73\n",
      "    available_plugins = {'fits': ['imread', 'imread_collection'], 'gdal': ...\n",
      "    image_stack = []\n",
      "\n",
      "FILE\n",
      "    /home/jflabonte/.cache/pypoetry/virtualenvs/opencv-tests-yCVsfKda-py3.10/lib/python3.10/site-packages/skimage/io/__init__.py\n",
      "\n",
      "\n"
     ]
    }
   ],
   "source": [
    "help(io)"
   ]
  },
  {
   "cell_type": "code",
   "execution_count": 3,
   "id": "6cc21e8f",
   "metadata": {},
   "outputs": [],
   "source": [
    "io.use_plugin(\"imread\", \"imread\")"
   ]
  },
  {
   "cell_type": "code",
   "execution_count": 4,
   "id": "53116a85",
   "metadata": {},
   "outputs": [
    {
     "data": {
      "text/plain": [
       "(3024, 4032, 3)"
      ]
     },
     "execution_count": 4,
     "metadata": {},
     "output_type": "execute_result"
    }
   ],
   "source": [
    "image_of_shadow = io.imread(\"shadow.JPG\")\n",
    "image_of_shadow.shape"
   ]
  },
  {
   "cell_type": "code",
   "execution_count": 5,
   "id": "d3ba77f7",
   "metadata": {},
   "outputs": [
    {
     "ename": "RuntimeError",
     "evalue": "No suitable plugin registered for imshow.\n\nYou may load I/O plugins with the `skimage.io.use_plugin` command.  A list of all available plugins are shown in the `skimage.io` docstring.",
     "output_type": "error",
     "traceback": [
      "\u001b[0;31m---------------------------------------------------------------------------\u001b[0m",
      "\u001b[0;31mRuntimeError\u001b[0m                              Traceback (most recent call last)",
      "Cell \u001b[0;32mIn[5], line 1\u001b[0m\n\u001b[0;32m----> 1\u001b[0m \u001b[43mio\u001b[49m\u001b[38;5;241;43m.\u001b[39;49m\u001b[43mimshow\u001b[49m\u001b[43m(\u001b[49m\u001b[43mimage_of_shadow\u001b[49m\u001b[43m)\u001b[49m\n",
      "File \u001b[0;32m~/.cache/pypoetry/virtualenvs/opencv-tests-yCVsfKda-py3.10/lib/python3.10/site-packages/skimage/io/_io.py:166\u001b[0m, in \u001b[0;36mimshow\u001b[0;34m(arr, plugin, **plugin_args)\u001b[0m\n\u001b[1;32m    164\u001b[0m \u001b[38;5;28;01mif\u001b[39;00m \u001b[38;5;28misinstance\u001b[39m(arr, \u001b[38;5;28mstr\u001b[39m):\n\u001b[1;32m    165\u001b[0m     arr \u001b[38;5;241m=\u001b[39m call_plugin(\u001b[38;5;124m'\u001b[39m\u001b[38;5;124mimread\u001b[39m\u001b[38;5;124m'\u001b[39m, arr, plugin\u001b[38;5;241m=\u001b[39mplugin)\n\u001b[0;32m--> 166\u001b[0m \u001b[38;5;28;01mreturn\u001b[39;00m \u001b[43mcall_plugin\u001b[49m\u001b[43m(\u001b[49m\u001b[38;5;124;43m'\u001b[39;49m\u001b[38;5;124;43mimshow\u001b[39;49m\u001b[38;5;124;43m'\u001b[39;49m\u001b[43m,\u001b[49m\u001b[43m \u001b[49m\u001b[43marr\u001b[49m\u001b[43m,\u001b[49m\u001b[43m \u001b[49m\u001b[43mplugin\u001b[49m\u001b[38;5;241;43m=\u001b[39;49m\u001b[43mplugin\u001b[49m\u001b[43m,\u001b[49m\u001b[43m \u001b[49m\u001b[38;5;241;43m*\u001b[39;49m\u001b[38;5;241;43m*\u001b[39;49m\u001b[43mplugin_args\u001b[49m\u001b[43m)\u001b[49m\n",
      "File \u001b[0;32m~/.cache/pypoetry/virtualenvs/opencv-tests-yCVsfKda-py3.10/lib/python3.10/site-packages/skimage/io/manage_plugins.py:194\u001b[0m, in \u001b[0;36mcall_plugin\u001b[0;34m(kind, *args, **kwargs)\u001b[0m\n\u001b[1;32m    189\u001b[0m \u001b[38;5;28;01mif\u001b[39;00m \u001b[38;5;28mlen\u001b[39m(plugin_funcs) \u001b[38;5;241m==\u001b[39m \u001b[38;5;241m0\u001b[39m:\n\u001b[1;32m    190\u001b[0m     msg \u001b[38;5;241m=\u001b[39m (\u001b[38;5;124m\"\u001b[39m\u001b[38;5;124mNo suitable plugin registered for \u001b[39m\u001b[38;5;132;01m%s\u001b[39;00m\u001b[38;5;124m.\u001b[39m\u001b[38;5;130;01m\\n\u001b[39;00m\u001b[38;5;130;01m\\n\u001b[39;00m\u001b[38;5;124m\"\u001b[39m\n\u001b[1;32m    191\u001b[0m            \u001b[38;5;124m\"\u001b[39m\u001b[38;5;124mYou may load I/O plugins with the `skimage.io.use_plugin` \u001b[39m\u001b[38;5;124m\"\u001b[39m\n\u001b[1;32m    192\u001b[0m            \u001b[38;5;124m\"\u001b[39m\u001b[38;5;124mcommand.  A list of all available plugins are shown in the \u001b[39m\u001b[38;5;124m\"\u001b[39m\n\u001b[1;32m    193\u001b[0m            \u001b[38;5;124m\"\u001b[39m\u001b[38;5;124m`skimage.io` docstring.\u001b[39m\u001b[38;5;124m\"\u001b[39m)\n\u001b[0;32m--> 194\u001b[0m     \u001b[38;5;28;01mraise\u001b[39;00m \u001b[38;5;167;01mRuntimeError\u001b[39;00m(msg \u001b[38;5;241m%\u001b[39m kind)\n\u001b[1;32m    196\u001b[0m plugin \u001b[38;5;241m=\u001b[39m kwargs\u001b[38;5;241m.\u001b[39mpop(\u001b[38;5;124m'\u001b[39m\u001b[38;5;124mplugin\u001b[39m\u001b[38;5;124m'\u001b[39m, \u001b[38;5;28;01mNone\u001b[39;00m)\n\u001b[1;32m    197\u001b[0m \u001b[38;5;28;01mif\u001b[39;00m plugin \u001b[38;5;129;01mis\u001b[39;00m \u001b[38;5;28;01mNone\u001b[39;00m:\n",
      "\u001b[0;31mRuntimeError\u001b[0m: No suitable plugin registered for imshow.\n\nYou may load I/O plugins with the `skimage.io.use_plugin` command.  A list of all available plugins are shown in the `skimage.io` docstring."
     ]
    }
   ],
   "source": [
    "io.imshow(image_of_shadow)"
   ]
  },
  {
   "cell_type": "code",
   "execution_count": null,
   "id": "1041c4f9",
   "metadata": {},
   "outputs": [],
   "source": []
  }
 ],
 "metadata": {
  "kernelspec": {
   "display_name": "Python 3 (ipykernel)",
   "language": "python",
   "name": "python3"
  },
  "language_info": {
   "codemirror_mode": {
    "name": "ipython",
    "version": 3
   },
   "file_extension": ".py",
   "mimetype": "text/x-python",
   "name": "python",
   "nbconvert_exporter": "python",
   "pygments_lexer": "ipython3",
   "version": "3.10.8"
  }
 },
 "nbformat": 4,
 "nbformat_minor": 5
}
